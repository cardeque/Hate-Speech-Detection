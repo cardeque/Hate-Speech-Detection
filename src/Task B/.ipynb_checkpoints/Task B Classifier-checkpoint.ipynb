{
 "cells": [
  {
   "cell_type": "markdown",
   "metadata": {},
   "source": [
    "### Imports\n",
    "- Data like stopword, tokenizers and stemmers from ntlk is required. \n",
    "```\n",
    ">>>import nltk\n",
    ">>>nltk.download('all')\n",
    "```"
   ]
  },
  {
   "cell_type": "code",
   "execution_count": 1,
   "metadata": {},
   "outputs": [],
   "source": [
    "import pandas\n",
    "import numpy\n",
    "import scipy\n",
    "import sys\n",
    "import re\n",
    "import string\n",
    "import csv\n",
    "import emoji\n",
    "import matplotlib.pyplot as plt\n",
    "import time\n",
    "import seaborn as sn\n",
    "import sklearn.metrics\n",
    "\n",
    "from nltk.corpus import stopwords\n",
    "from nltk.stem import PorterStemmer\n",
    "from nltk.tokenize import word_tokenize\n",
    "from wordcloud import WordCloud\n",
    "\n",
    "from sklearn import svm\n",
    "from sklearn import tree\n",
    "from sklearn.svm import SVC\n",
    "from sklearn.naive_bayes import MultinomialNB\n",
    "from sklearn.feature_extraction.text import CountVectorizer\n",
    "from sklearn.ensemble import RandomForestClassifier\n",
    "from sklearn.datasets import make_classification\n",
    "from sklearn import metrics\n",
    "from sklearn.model_selection import train_test_split\n",
    "from sklearn.model_selection import KFold, StratifiedKFold\n",
    "from sklearn.model_selection import cross_val_score, cross_val_predict\n",
    "from sklearn.model_selection import GridSearchCV"
   ]
  },
  {
   "cell_type": "markdown",
   "metadata": {},
   "source": [
    "### Pre-processing function"
   ]
  },
  {
   "cell_type": "code",
   "execution_count": 2,
   "metadata": {},
   "outputs": [],
   "source": [
    "def string_preprocess(text_string,\n",
    "               rm_stopwords = True,\n",
    "               sub_emoji = True,\n",
    "               rm_ponctuation = True,\n",
    "               rm_digits = True,\n",
    "               add_stemmer = True):\n",
    "\n",
    "    text_string = word_tokenize(text_string)\n",
    "    \n",
    "    # Removes Stop Words\n",
    "    if rm_stopwords:\n",
    "        stop_words = set(stopwords.words('english'))\n",
    "        text_string = [word for word in text_string if word not in stop_words]\n",
    "    \n",
    "    # Replace Emojis with 'EMOJI'\n",
    "    if sub_emoji:\n",
    "        text_string = [emoji.get_emoji_regexp().sub('EMOJI ', word) for word in text_string]\n",
    "        \n",
    "    # Removes digits (0 - 9)\n",
    "    if rm_digits:\n",
    "        text_string = [word for word in text_string if not word.isdigit()]\n",
    "    \n",
    "    # Use the Porter Stemmer on the words\n",
    "    if add_stemmer:\n",
    "        ps = PorterStemmer()\n",
    "        text_string = [ps.stem(word) for word in text_string]\n",
    "        \n",
    "    # Removes ponctuation\n",
    "    if rm_ponctuation:\n",
    "        table = str.maketrans('', '', string.punctuation)\n",
    "        text_string = [word.translate(table) for word in text_string]\n",
    "        \n",
    "    # Additional formating\n",
    "    mention_regex = '@[\\w\\-]+'\n",
    "    text_string = [re.sub(mention_regex, 'MENTIONHERE', word) for word in text_string]\n",
    "    \n",
    "    text_string = [word for word in text_string if word != '' and word.isalnum()]\n",
    " \n",
    "\n",
    "    return ' '.join(text_string)"
   ]
  },
  {
   "cell_type": "markdown",
   "metadata": {},
   "source": [
    "### Pre-processing\n",
    "- Recives a pandas dataframe with the colum name and pre-process the string"
   ]
  },
  {
   "cell_type": "code",
   "execution_count": 3,
   "metadata": {},
   "outputs": [],
   "source": [
    "def pre_process(text_data, column_name):\n",
    "    for linha in range(len(text_data)):\n",
    "        text = text_data.at[linha, column_name]\n",
    "        text = string_preprocess(text)\n",
    "        text_data.at[linha, column_name] = text"
   ]
  },
  {
   "cell_type": "markdown",
   "metadata": {},
   "source": [
    "### Getting the corpus\n",
    "- Recives X dataframes and returns a list of all words of a column"
   ]
  },
  {
   "cell_type": "code",
   "execution_count": 4,
   "metadata": {},
   "outputs": [],
   "source": [
    "def get_corpus(column, *args):\n",
    "    full_corpus = []\n",
    "    \n",
    "    for text_dataframe in args:\n",
    "        for linha in range(len(text_dataframe)):\n",
    "            full_corpus.append(text_dataframe.at[linha, column])\n",
    "    \n",
    "    return full_corpus"
   ]
  },
  {
   "cell_type": "markdown",
   "metadata": {},
   "source": [
    "### BOW creating function"
   ]
  },
  {
   "cell_type": "code",
   "execution_count": 5,
   "metadata": {},
   "outputs": [],
   "source": [
    "def get_bow(corpus):\n",
    "    vectorizer = CountVectorizer(encoding = 'unicode',\n",
    "                             strip_accents = 'unicode',\n",
    "                             ngram_range = (1,3),\n",
    "                             analyzer = 'word',\n",
    "                             max_df = 0.95, \n",
    "                             binary = True)\n",
    "    \n",
    "    return vectorizer.fit_transform(corpus)"
   ]
  },
  {
   "cell_type": "markdown",
   "metadata": {},
   "source": [
    "### Confusion matrix plot"
   ]
  },
  {
   "cell_type": "code",
   "execution_count": 6,
   "metadata": {},
   "outputs": [],
   "source": [
    "def plot_confusion_matrix(cm,\n",
    "                          target_names,\n",
    "                          title='Confusion matrix',\n",
    "                          cmap=None,\n",
    "                          normalize=True):\n",
    "    \"\"\"\n",
    "    given a sklearn confusion matrix (cm), make a nice plot\n",
    "\n",
    "    Arguments\n",
    "    ---------\n",
    "    cm:           confusion matrix from sklearn.metrics.confusion_matrix\n",
    "\n",
    "    target_names: given classification classes such as [0, 1, 2]\n",
    "                  the class names, for example: ['high', 'medium', 'low']\n",
    "\n",
    "    title:        the text to display at the top of the matrix\n",
    "\n",
    "    cmap:         the gradient of the values displayed from matplotlib.pyplot.cm\n",
    "                  see http://matplotlib.org/examples/color/colormaps_reference.html\n",
    "                  plt.get_cmap('jet') or plt.cm.Blues\n",
    "\n",
    "    normalize:    If False, plot the raw numbers\n",
    "                  If True, plot the proportions\n",
    "\n",
    "    Usage\n",
    "    -----\n",
    "    plot_confusion_matrix(cm           = cm,                  # confusion matrix created by\n",
    "                                                              # sklearn.metrics.confusion_matrix\n",
    "                          normalize    = True,                # show proportions\n",
    "                          target_names = y_labels_vals,       # list of names of the classes\n",
    "                          title        = best_estimator_name) # title of graph\n",
    "\n",
    "    Citiation\n",
    "    ---------\n",
    "    http://scikit-learn.org/stable/auto_examples/model_selection/plot_confusion_matrix.html\n",
    "\n",
    "    \"\"\"\n",
    "    import matplotlib.pyplot as plt\n",
    "    import numpy as np\n",
    "    import itertools\n",
    "\n",
    "    accuracy = np.trace(cm) / float(np.sum(cm))\n",
    "    misclass = 1 - accuracy\n",
    "\n",
    "    if cmap is None:\n",
    "        cmap = plt.get_cmap('Blues')\n",
    "\n",
    "    plt.figure(figsize=(4, 3))\n",
    "    plt.imshow(cm, interpolation='nearest', cmap=cmap)\n",
    "    plt.title(title)\n",
    "    plt.colorbar()\n",
    "\n",
    "    if target_names is not None:\n",
    "        tick_marks = np.arange(len(target_names))\n",
    "        plt.xticks(tick_marks, target_names, rotation=45)\n",
    "        plt.yticks(tick_marks, target_names)\n",
    "\n",
    "    if normalize:\n",
    "        cm = cm.astype('float') / cm.sum(axis=1)[:, np.newaxis]\n",
    "\n",
    "\n",
    "    thresh = cm.max() / 1.5 if normalize else cm.max() / 2\n",
    "    for i, j in itertools.product(range(cm.shape[0]), range(cm.shape[1])):\n",
    "        if normalize:\n",
    "            plt.text(j, i, \"{:0.4f}\".format(cm[i, j]),\n",
    "                     horizontalalignment=\"center\",\n",
    "                     color=\"white\" if cm[i, j] > thresh else \"black\")\n",
    "        else:\n",
    "            plt.text(j, i, \"{:,}\".format(cm[i, j]),\n",
    "                     horizontalalignment=\"center\",\n",
    "                     color=\"white\" if cm[i, j] > thresh else \"black\")\n",
    "\n",
    "\n",
    "    plt.tight_layout()\n",
    "    plt.ylabel('True label')\n",
    "    plt.xlabel('Predicted label\\naccuracy={:0.4f}; misclass={:0.4f}'.format(accuracy, misclass))\n",
    "    plt.show()"
   ]
  },
  {
   "cell_type": "markdown",
   "metadata": {},
   "source": [
    "### Grid search function"
   ]
  },
  {
   "cell_type": "code",
   "execution_count": 7,
   "metadata": {},
   "outputs": [],
   "source": [
    "def svc_param_selection(X, y, nfolds):\n",
    "    Cs = [0.001, 0.01, 0.1, 1, 10]\n",
    "    gammas = [0.001, 0.01, 0.1, 1]\n",
    "    param_grid = {'C': Cs, 'gamma' : gammas}\n",
    "    grid_search = GridSearchCV(svm.SVC(kernel='linear'), param_grid, cv=nfolds, n_jobs=-1)\n",
    "    grid_search.fit(X, y)\n",
    "    grid_search.best_params_\n",
    "    return grid_search.best_params_"
   ]
  },
  {
   "cell_type": "markdown",
   "metadata": {},
   "source": [
    "### Getting and preprocessing the tweets"
   ]
  },
  {
   "cell_type": "code",
   "execution_count": 8,
   "metadata": {},
   "outputs": [],
   "source": [
    "training_tsv = pandas.read_csv('offenseval-training-v1.tsv', sep='\\t')\n",
    "\n",
    "#print(training_tsv)\n",
    "\n",
    "training_tsv = training_tsv[training_tsv.subtask_a == 'OFF']\n",
    "training_tsv = training_tsv.reset_index(drop=True)\n",
    "\n",
    "complete_corpus = get_corpus('tweet', training_tsv)\n",
    "corpus_bow = get_bow(complete_corpus)\n",
    "\n",
    "complete_labels = [training_tsv.at[linha, \"subtask_b\"] for linha in range(len(training_tsv))]"
   ]
  },
  {
   "cell_type": "code",
   "execution_count": 9,
   "metadata": {
    "scrolled": true
   },
   "outputs": [
    {
     "name": "stdout",
     "output_type": "stream",
     "text": [
      "# Tuning hyper-parameters for f1\n",
      "\n",
      "Best parameters set found on development set:\n",
      "\n",
      "{'C': 25, 'kernel': 'linear'}\n",
      "\n",
      "Grid scores on development set:\n",
      "\n",
      "0.468 (+/-0.001) for {'C': 0.001, 'gamma': 0.01, 'kernel': 'rbf'}\n",
      "0.468 (+/-0.001) for {'C': 0.001, 'gamma': 0.001, 'kernel': 'rbf'}\n",
      "0.468 (+/-0.001) for {'C': 0.001, 'gamma': 0.0001, 'kernel': 'rbf'}\n",
      "0.468 (+/-0.001) for {'C': 0.001, 'gamma': 1e-05, 'kernel': 'rbf'}\n",
      "0.468 (+/-0.001) for {'C': 0.1, 'gamma': 0.01, 'kernel': 'rbf'}\n",
      "0.468 (+/-0.001) for {'C': 0.1, 'gamma': 0.001, 'kernel': 'rbf'}\n",
      "0.468 (+/-0.001) for {'C': 0.1, 'gamma': 0.0001, 'kernel': 'rbf'}\n",
      "0.468 (+/-0.001) for {'C': 0.1, 'gamma': 1e-05, 'kernel': 'rbf'}\n",
      "0.468 (+/-0.001) for {'C': 0.1, 'gamma': 0.01, 'kernel': 'rbf'}\n",
      "0.468 (+/-0.001) for {'C': 0.1, 'gamma': 0.001, 'kernel': 'rbf'}\n",
      "0.468 (+/-0.001) for {'C': 0.1, 'gamma': 0.0001, 'kernel': 'rbf'}\n",
      "0.468 (+/-0.001) for {'C': 0.1, 'gamma': 1e-05, 'kernel': 'rbf'}\n",
      "0.515 (+/-0.062) for {'C': 10, 'gamma': 0.01, 'kernel': 'rbf'}\n",
      "0.468 (+/-0.001) for {'C': 10, 'gamma': 0.001, 'kernel': 'rbf'}\n",
      "0.468 (+/-0.001) for {'C': 10, 'gamma': 0.0001, 'kernel': 'rbf'}\n",
      "0.468 (+/-0.001) for {'C': 10, 'gamma': 1e-05, 'kernel': 'rbf'}\n",
      "0.527 (+/-0.058) for {'C': 25, 'gamma': 0.01, 'kernel': 'rbf'}\n",
      "0.468 (+/-0.001) for {'C': 25, 'gamma': 0.001, 'kernel': 'rbf'}\n",
      "0.468 (+/-0.001) for {'C': 25, 'gamma': 0.0001, 'kernel': 'rbf'}\n",
      "0.468 (+/-0.001) for {'C': 25, 'gamma': 1e-05, 'kernel': 'rbf'}\n",
      "0.536 (+/-0.055) for {'C': 50, 'gamma': 0.01, 'kernel': 'rbf'}\n",
      "0.485 (+/-0.045) for {'C': 50, 'gamma': 0.001, 'kernel': 'rbf'}\n",
      "0.468 (+/-0.001) for {'C': 50, 'gamma': 0.0001, 'kernel': 'rbf'}\n",
      "0.468 (+/-0.001) for {'C': 50, 'gamma': 1e-05, 'kernel': 'rbf'}\n",
      "0.538 (+/-0.050) for {'C': 100, 'gamma': 0.01, 'kernel': 'rbf'}\n",
      "0.518 (+/-0.072) for {'C': 100, 'gamma': 0.001, 'kernel': 'rbf'}\n",
      "0.468 (+/-0.001) for {'C': 100, 'gamma': 0.0001, 'kernel': 'rbf'}\n",
      "0.468 (+/-0.001) for {'C': 100, 'gamma': 1e-05, 'kernel': 'rbf'}\n",
      "0.549 (+/-0.060) for {'C': 1000, 'gamma': 0.01, 'kernel': 'rbf'}\n",
      "0.545 (+/-0.055) for {'C': 1000, 'gamma': 0.001, 'kernel': 'rbf'}\n",
      "0.522 (+/-0.073) for {'C': 1000, 'gamma': 0.0001, 'kernel': 'rbf'}\n",
      "0.468 (+/-0.001) for {'C': 1000, 'gamma': 1e-05, 'kernel': 'rbf'}\n",
      "0.468 (+/-0.001) for {'C': 0.001, 'gamma': 0.01, 'kernel': 'sigmoid'}\n",
      "0.468 (+/-0.001) for {'C': 0.001, 'gamma': 0.001, 'kernel': 'sigmoid'}\n",
      "0.468 (+/-0.001) for {'C': 0.001, 'gamma': 0.0001, 'kernel': 'sigmoid'}\n",
      "0.468 (+/-0.001) for {'C': 0.001, 'gamma': 1e-05, 'kernel': 'sigmoid'}\n",
      "0.468 (+/-0.001) for {'C': 0.1, 'gamma': 0.01, 'kernel': 'sigmoid'}\n",
      "0.468 (+/-0.001) for {'C': 0.1, 'gamma': 0.001, 'kernel': 'sigmoid'}\n",
      "0.468 (+/-0.001) for {'C': 0.1, 'gamma': 0.0001, 'kernel': 'sigmoid'}\n",
      "0.468 (+/-0.001) for {'C': 0.1, 'gamma': 1e-05, 'kernel': 'sigmoid'}\n",
      "0.468 (+/-0.001) for {'C': 0.1, 'gamma': 0.01, 'kernel': 'sigmoid'}\n",
      "0.468 (+/-0.001) for {'C': 0.1, 'gamma': 0.001, 'kernel': 'sigmoid'}\n",
      "0.468 (+/-0.001) for {'C': 0.1, 'gamma': 0.0001, 'kernel': 'sigmoid'}\n",
      "0.468 (+/-0.001) for {'C': 0.1, 'gamma': 1e-05, 'kernel': 'sigmoid'}\n",
      "0.488 (+/-0.052) for {'C': 10, 'gamma': 0.01, 'kernel': 'sigmoid'}\n",
      "0.468 (+/-0.001) for {'C': 10, 'gamma': 0.001, 'kernel': 'sigmoid'}\n",
      "0.468 (+/-0.001) for {'C': 10, 'gamma': 0.0001, 'kernel': 'sigmoid'}\n",
      "0.468 (+/-0.001) for {'C': 10, 'gamma': 1e-05, 'kernel': 'sigmoid'}\n",
      "0.529 (+/-0.059) for {'C': 25, 'gamma': 0.01, 'kernel': 'sigmoid'}\n",
      "0.468 (+/-0.001) for {'C': 25, 'gamma': 0.001, 'kernel': 'sigmoid'}\n",
      "0.468 (+/-0.001) for {'C': 25, 'gamma': 0.0001, 'kernel': 'sigmoid'}\n",
      "0.468 (+/-0.001) for {'C': 25, 'gamma': 1e-05, 'kernel': 'sigmoid'}\n",
      "0.535 (+/-0.063) for {'C': 50, 'gamma': 0.01, 'kernel': 'sigmoid'}\n",
      "0.468 (+/-0.001) for {'C': 50, 'gamma': 0.001, 'kernel': 'sigmoid'}\n",
      "0.468 (+/-0.001) for {'C': 50, 'gamma': 0.0001, 'kernel': 'sigmoid'}\n",
      "0.468 (+/-0.001) for {'C': 50, 'gamma': 1e-05, 'kernel': 'sigmoid'}\n",
      "0.540 (+/-0.056) for {'C': 100, 'gamma': 0.01, 'kernel': 'sigmoid'}\n",
      "0.489 (+/-0.053) for {'C': 100, 'gamma': 0.001, 'kernel': 'sigmoid'}\n",
      "0.468 (+/-0.001) for {'C': 100, 'gamma': 0.0001, 'kernel': 'sigmoid'}\n",
      "0.468 (+/-0.001) for {'C': 100, 'gamma': 1e-05, 'kernel': 'sigmoid'}\n",
      "0.548 (+/-0.068) for {'C': 1000, 'gamma': 0.01, 'kernel': 'sigmoid'}\n",
      "0.543 (+/-0.054) for {'C': 1000, 'gamma': 0.001, 'kernel': 'sigmoid'}\n",
      "0.489 (+/-0.053) for {'C': 1000, 'gamma': 0.0001, 'kernel': 'sigmoid'}\n",
      "0.468 (+/-0.001) for {'C': 1000, 'gamma': 1e-05, 'kernel': 'sigmoid'}\n",
      "0.468 (+/-0.001) for {'C': 0.001, 'kernel': 'linear'}\n",
      "0.489 (+/-0.053) for {'C': 0.1, 'kernel': 'linear'}\n",
      "0.489 (+/-0.053) for {'C': 0.1, 'kernel': 'linear'}\n",
      "0.547 (+/-0.064) for {'C': 10, 'kernel': 'linear'}\n",
      "0.551 (+/-0.055) for {'C': 25, 'kernel': 'linear'}\n",
      "0.551 (+/-0.055) for {'C': 50, 'kernel': 'linear'}\n",
      "0.551 (+/-0.055) for {'C': 100, 'kernel': 'linear'}\n",
      "0.551 (+/-0.055) for {'C': 1000, 'kernel': 'linear'}\n",
      "\n"
     ]
    }
   ],
   "source": [
    "cVals = [0.001, 0.10, 0.1, 10, 25, 50, 100, 1000]\n",
    "gammaVals = [1e-2, 1e-3, 1e-4, 1e-5]\n",
    "\n",
    "tuned_parameters = [{'kernel': ['rbf'], 'gamma': gammaVals, 'C': cVals },\n",
    "                     {'kernel': ['sigmoid'], 'gamma': gammaVals, 'C': cVals},\n",
    "                     {'kernel': ['linear'], 'C': cVals}\n",
    "                   ]\n",
    "\n",
    "scores = ['f1']\n",
    "\n",
    "for score in scores:\n",
    "    print(\"# Tuning hyper-parameters for %s\" % score)\n",
    "    print()\n",
    "\n",
    "    clf = GridSearchCV(SVC(C=1), tuned_parameters, cv=10,\n",
    "                       scoring='%s_macro' % score, n_jobs=-1)\n",
    "    clf.fit(corpus_bow, complete_labels)\n",
    "\n",
    "    print(\"Best parameters set found on development set:\")\n",
    "    print()\n",
    "    print(clf.best_params_)\n",
    "    print()\n",
    "    print(\"Grid scores on development set:\")\n",
    "    print()\n",
    "    means = clf.cv_results_['mean_test_score']\n",
    "    stds = clf.cv_results_['std_test_score']\n",
    "    for mean, std, params in zip(means, stds, clf.cv_results_['params']):\n",
    "        print(\"%0.3f (+/-%0.03f) for %r\"\n",
    "              % (mean, std * 2, params))\n",
    "    print()\n",
    "    \n",
    "\n",
    "# 0.549 (+/-0.060) for {'C': 1000, 'gamma': 0.01, 'kernel': 'rbf'}\n",
    "# 0.548 (+/-0.068) for {'C': 1000, 'gamma': 0.01, 'kernel': 'sigmoid'}\n",
    "# 0.551 (+/-0.055) for {'C': 25, 'kernel': 'linear'}"
   ]
  },
  {
   "cell_type": "code",
   "execution_count": 12,
   "metadata": {},
   "outputs": [],
   "source": [
    "f1_score = []\n",
    "precision_score = []\n",
    "recall_score = []\n",
    "accuracy_score = []\n",
    "cm = []\n",
    "\n",
    "classifier = svm.SVC(C=1000, kernel='rbf', gamma=0.01)\n",
    "\n",
    "#-----\n",
    "start = time.time()\n",
    "#-----\n",
    "\n",
    "skf = StratifiedKFold(n_splits=10)\n",
    "\n",
    "for training_index, test_index in skf.split(corpus_bow, complete_labels):\n",
    "    training_bow = corpus_bow[training_index]\n",
    "    analysis_bow = corpus_bow[test_index]\n",
    "    \n",
    "    training_labels = [complete_labels[i] for i in training_index]\n",
    "    analysis_labels = [complete_labels[i] for i in test_index]\n",
    "\n",
    "\n",
    "    classifier.fit(training_bow, training_labels)\n",
    "\n",
    "    prediction = classifier.predict(analysis_bow)\n",
    "    \n",
    "    f1_score.append(metrics.f1_score(analysis_labels, prediction, average=None))\n",
    "    precision_score.append(metrics.precision_score(analysis_labels, prediction, average=None))\n",
    "    recall_score.append(metrics.recall_score(analysis_labels, prediction, average=None))\n",
    "    accuracy_score.append((metrics.accuracy_score(analysis_labels, prediction)))\n",
    "    cm.append(metrics.confusion_matrix(analysis_labels, prediction))\n",
    "    \n",
    "#-----\n",
    "end = time.time()\n",
    "#-----"
   ]
  },
  {
   "cell_type": "code",
   "execution_count": 13,
   "metadata": {
    "scrolled": false
   },
   "outputs": [
    {
     "name": "stdout",
     "output_type": "stream",
     "text": [
      "F1 Score median:\n",
      "UNT    0.932432\n",
      "TIN    0.155126\n",
      "\n",
      "------------\n",
      "Precision median:\n",
      "UNT    0.889151\n",
      "TIN    0.394444\n",
      "\n",
      "------------\n",
      "Recall median:\n",
      "UNT    0.979355\n",
      "TIN    0.095065\n",
      "\n",
      "------------\n",
      "Accuracy median:\n",
      "Accuracy    0.874858\n",
      "\n",
      "------------\n",
      "Time taken:\n",
      "39.545976638793945\n"
     ]
    },
    {
     "data": {
      "text/plain": [
       "<Figure size 432x288 with 0 Axes>"
      ]
     },
     "metadata": {},
     "output_type": "display_data"
    },
    {
     "data": {
      "image/png": "[encoded data removed]",
      "text/plain": [
       "<Figure size 216x288 with 1 Axes>"
      ]
     },
     "metadata": {
      "needs_background": "light"
     },
     "output_type": "display_data"
    },
    {
     "data": {
      "image/png": "[encoded data removed]",
      "text/plain": [
       "<Figure size 216x288 with 1 Axes>"
      ]
     },
     "metadata": {
      "needs_background": "light"
     },
     "output_type": "display_data"
    },
    {
     "data": {
      "image/png": "[encoded data removed]",
      "text/plain": [
       "<Figure size 216x288 with 1 Axes>"
      ]
     },
     "metadata": {
      "needs_background": "light"
     },
     "output_type": "display_data"
    },
    {
     "data": {
      "image/png": "[encoded data removed]",
      "text/plain": [
       "<Figure size 216x288 with 1 Axes>"
      ]
     },
     "metadata": {
      "needs_background": "light"
     },
     "output_type": "display_data"
    },
    {
     "data": {
      "image/png": "[encoded data removed]",
      "text/plain": [
       "<Figure size 288x216 with 2 Axes>"
      ]
     },
     "metadata": {
      "needs_background": "light"
     },
     "output_type": "display_data"
    }
   ],
   "source": [
    "color = {'boxes': 'Black',\n",
    "         'whiskers': 'DarkOrange',\n",
    "         'medians': 'DarkBlue',\n",
    "         'caps': 'Gray'}\n",
    "\n",
    "f1_scores_df = pandas.DataFrame(f1_score, columns=['UNT' , 'TIN'])\n",
    "plt.figure(num=4)\n",
    "f1_scores_df.plot(color=color,\n",
    "                  widths=0.4,\n",
    "                  kind='box',\n",
    "                  fontsize=13,\n",
    "                  figsize=[3,4],\n",
    "                  title='F1 Score')\n",
    "\n",
    "print(f'F1 Score median:\\n{f1_scores_df.median(axis=0).to_string()}\\n')\n",
    "#print(f'F1 Score max:\\n{f1_scores_df.max(axis=0).to_string()}\\n')\n",
    "#print(f'F1 Score min:\\n{f1_scores_df.min(axis=0).to_string()}\\n')\n",
    "print('------------')\n",
    "#print(f1_plot)\n",
    "\n",
    "precision_score_df = pandas.DataFrame(precision_score, columns=['UNT' , 'TIN'])\n",
    "plt.figure(num=5)\n",
    "precision_score_df.plot(color=color,\n",
    "                        widths=0.4,\n",
    "                        kind='box',\n",
    "                        fontsize=13,\n",
    "                        figsize=[3,4],\n",
    "                        title='Precision Score')\n",
    "\n",
    "print(f'Precision median:\\n{precision_score_df.median(axis=0).to_string()}\\n')\n",
    "#print(f'Precision max:\\n{precision_score_df.max(axis=0).to_string()}\\n')\n",
    "#print(f'Precision min:\\n{precision_score_df.min(axis=0).to_string()}\\n')\n",
    "print('------------')\n",
    "# print(precision_score)\n",
    "\n",
    "recall_score_df = pandas.DataFrame(recall_score, columns=['UNT' , 'TIN'])\n",
    "plt.figure(num=6)\n",
    "recall_score_df.plot(color=color,\n",
    "                     widths=0.4, kind='box',\n",
    "                     fontsize=13,\n",
    "                     figsize=[3,4],\n",
    "                     title='Recall Score')\n",
    "\n",
    "print(f'Recall median:\\n{recall_score_df.median(axis=0).to_string()}\\n')\n",
    "#print(f'Recall max:\\n{recall_score_df.max(axis=0).to_string()}\\n')\n",
    "#print(f'Recall min:\\n{recall_score_df.min(axis=0).to_string()}\\n')\n",
    "print('------------')\n",
    "# print(recall_score)\n",
    "\n",
    "accuracy_score_df = pandas.DataFrame(accuracy_score, columns=['Accuracy'])\n",
    "plt.figure(num=7)\n",
    "accuracy_score_df.plot(color=color,\n",
    "                     widths=0.4, kind='box',\n",
    "                     fontsize=13,\n",
    "                     figsize=[3,4],\n",
    "                     title='Accuracy Score')\n",
    "\n",
    "print(f'Accuracy median:\\n{accuracy_score_df.median(axis=0).to_string()}\\n')\n",
    "#print(f'Accuracy max:\\n{accuracy_score_df.max(axis=0).to_string()}\\n')\n",
    "#print(f'Accuracy min:\\n{accuracy_score_df.min(axis=0).to_string()}\\n')\n",
    "print('------------')\n",
    "#print(accuracy_score)\n",
    "\n",
    "print('Time taken:')\n",
    "print(end - start)\n",
    "\n",
    "\n",
    "cm_median = numpy.median(cm, axis=0)\n",
    "plot_confusion_matrix(cm = cm_median, target_names = [\"UNT\", \"TIN\"], title = 'Confusion Matrix', normalize = False)"
   ]
  },
  {
   "cell_type": "code",
   "execution_count": null,
   "metadata": {},
   "outputs": [],
   "source": []
  },
  {
   "cell_type": "code",
   "execution_count": null,
   "metadata": {},
   "outputs": [],
   "source": []
  }
 ],
 "metadata": {
  "kernelspec": {
   "display_name": "Python 3",
   "language": "python",
   "name": "python3"
  },
  "language_info": {
   "codemirror_mode": {
    "name": "ipython",
    "version": 3
   },
   "file_extension": ".py",
   "mimetype": "text/x-python",
   "name": "python",
   "nbconvert_exporter": "python",
   "pygments_lexer": "ipython3",
   "version": "3.7.2"
  }
 },
 "nbformat": 4,
 "nbformat_minor": 2
}
